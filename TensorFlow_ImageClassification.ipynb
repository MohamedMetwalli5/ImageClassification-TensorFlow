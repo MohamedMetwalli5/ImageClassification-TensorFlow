{
  "nbformat": 4,
  "nbformat_minor": 0,
  "metadata": {
    "colab": {
      "name": "TensorFlow-ImageClassification.ipynb",
      "provenance": [],
      "collapsed_sections": []
    },
    "kernelspec": {
      "name": "python3",
      "display_name": "Python 3"
    },
    "language_info": {
      "name": "python"
    }
  },
  "cells": [
    {
      "cell_type": "code",
      "execution_count": 9,
      "metadata": {
        "id": "fWFVZegXXkAg"
      },
      "outputs": [],
      "source": [
        "import tensorflow as tf\n",
        "from tensorflow.keras import datasets, layers, models\n",
        "import numpy as np\n",
        "import matplotlib.pyplot as plt\n",
        "from sklearn.metrics import confusion_matrix, classification_report"
      ]
    },
    {
      "cell_type": "markdown",
      "source": [
        "# **Loading the DataSet**"
      ],
      "metadata": {
        "id": "u19-ULlRtBP9"
      }
    },
    {
      "cell_type": "code",
      "source": [
        "(x_train, y_train), (x_test, y_test) = datasets.cifar10.load_data()"
      ],
      "metadata": {
        "colab": {
          "base_uri": "https://localhost:8080/"
        },
        "id": "-SK5ZCUiYEBm",
        "outputId": "0c0bfbe3-f021-490f-c9f8-39cdcf67accf"
      },
      "execution_count": 3,
      "outputs": [
        {
          "output_type": "stream",
          "name": "stdout",
          "text": [
            "Downloading data from https://www.cs.toronto.edu/~kriz/cifar-10-python.tar.gz\n",
            "170500096/170498071 [==============================] - 2s 0us/step\n",
            "170508288/170498071 [==============================] - 2s 0us/step\n"
          ]
        }
      ]
    },
    {
      "cell_type": "markdown",
      "source": [
        "# **The Classes' Labels**"
      ],
      "metadata": {
        "id": "TYbrNYH3tFkc"
      }
    },
    {
      "cell_type": "code",
      "source": [
        "Classes = [\"airplane\", \"automobile\", \"bird\", \"cat\", \"deer\", \"dog\", \"frog\", \"horse\", \"ship\", \"truck\"]"
      ],
      "metadata": {
        "id": "up2-3CJDZXf1"
      },
      "execution_count": 6,
      "outputs": []
    },
    {
      "cell_type": "markdown",
      "source": [
        "# **Making The Labels Column Values Normalized**"
      ],
      "metadata": {
        "id": "uoOdZuEqtKml"
      }
    },
    {
      "cell_type": "code",
      "source": [
        "y_train = y_train.reshape(-1)\n",
        "print(y_train)\n",
        "\n",
        "y_test = y_test.reshape(-1)\n",
        "print(y_test)"
      ],
      "metadata": {
        "colab": {
          "base_uri": "https://localhost:8080/"
        },
        "id": "2enXfyLVZINN",
        "outputId": "ac509dc7-9b62-4267-e169-e279452dbb1b"
      },
      "execution_count": 60,
      "outputs": [
        {
          "output_type": "stream",
          "name": "stdout",
          "text": [
            "[6 9 9 ... 9 1 1]\n",
            "[3 8 8 ... 5 1 7]\n"
          ]
        }
      ]
    },
    {
      "cell_type": "markdown",
      "source": [
        "# **Converting the RGB Values [0:255] -> [0.0 : 1.0]**"
      ],
      "metadata": {
        "id": "IA6rhG9JtRA9"
      }
    },
    {
      "cell_type": "code",
      "source": [
        "x_train = x_train/255.0\n",
        "x_test = x_test/255.0"
      ],
      "metadata": {
        "id": "FoHkNZhEZ9Lx"
      },
      "execution_count": 63,
      "outputs": []
    },
    {
      "cell_type": "markdown",
      "source": [
        "# **The Artifitial Neural Network**"
      ],
      "metadata": {
        "id": "-sbI1iLrtuE4"
      }
    },
    {
      "cell_type": "code",
      "source": [
        "ann = models.Sequential([\n",
        "                         layers.Flatten(input_shape=(32,32,3)),\n",
        "                         layers.Dense(3000, activation='relu'),\n",
        "                         layers.Dense(1000, activation='relu'),\n",
        "                         layers.Dense(10, activation='sigmoid')\n",
        "                      ])\n",
        "\n",
        "ann.compile(optimizer='SGD',\n",
        "            loss='sparse_categorical_crossentropy',\n",
        "            metrics=['accuracy'])\n",
        "\n",
        "ann.fit(x_train, y_train, epochs = 7)"
      ],
      "metadata": {
        "colab": {
          "base_uri": "https://localhost:8080/"
        },
        "id": "h0CxIek1afJl",
        "outputId": "dac59c84-87a9-4484-ddb6-38edf521a13c"
      },
      "execution_count": 65,
      "outputs": [
        {
          "output_type": "stream",
          "name": "stdout",
          "text": [
            "Epoch 1/7\n",
            "1563/1563 [==============================] - 113s 72ms/step - loss: 2.3027 - accuracy: 0.0965\n",
            "Epoch 2/7\n",
            "1563/1563 [==============================] - 121s 77ms/step - loss: 2.3027 - accuracy: 0.0967\n",
            "Epoch 3/7\n",
            "1563/1563 [==============================] - 115s 74ms/step - loss: 2.3027 - accuracy: 0.0952\n",
            "Epoch 4/7\n",
            "1563/1563 [==============================] - 111s 71ms/step - loss: 2.3027 - accuracy: 0.0974\n",
            "Epoch 5/7\n",
            "1563/1563 [==============================] - 116s 74ms/step - loss: 2.3027 - accuracy: 0.0969\n",
            "Epoch 6/7\n",
            "1563/1563 [==============================] - 113s 73ms/step - loss: 2.3027 - accuracy: 0.0974\n",
            "Epoch 7/7\n",
            "1563/1563 [==============================] - 112s 72ms/step - loss: 2.3027 - accuracy: 0.0984\n"
          ]
        },
        {
          "output_type": "execute_result",
          "data": {
            "text/plain": [
              "<keras.callbacks.History at 0x7f365c604790>"
            ]
          },
          "metadata": {},
          "execution_count": 65
        }
      ]
    },
    {
      "cell_type": "markdown",
      "source": [
        "**ANN Report**"
      ],
      "metadata": {
        "id": "LslIQvRsxWB8"
      }
    },
    {
      "cell_type": "code",
      "source": [
        "y_pred = ann.predict(x_test)\n",
        "y_pred_classes = [np.argmax(element) for element in y_pred]\n",
        "\n",
        "print(\"The Report Of Classification : \\n\", classification_report(y_test, y_pred_classes))"
      ],
      "metadata": {
        "colab": {
          "base_uri": "https://localhost:8080/"
        },
        "id": "5PFx6wvfb-0f",
        "outputId": "6796a287-c97f-4591-c0fc-d2d9c63e1de4"
      },
      "execution_count": 73,
      "outputs": [
        {
          "output_type": "stream",
          "name": "stdout",
          "text": [
            "The Report Of Classification : \n",
            "               precision    recall  f1-score   support\n",
            "\n",
            "           0       0.00      0.00      0.00      1000\n",
            "           1       0.00      0.00      0.00      1000\n",
            "           2       0.00      0.00      0.00      1000\n",
            "           3       0.00      0.00      0.00      1000\n",
            "           4       0.00      0.00      0.00      1000\n",
            "           5       0.10      1.00      0.18      1000\n",
            "           6       0.00      0.00      0.00      1000\n",
            "           7       0.00      0.00      0.00      1000\n",
            "           8       0.00      0.00      0.00      1000\n",
            "           9       0.00      0.00      0.00      1000\n",
            "\n",
            "    accuracy                           0.10     10000\n",
            "   macro avg       0.01      0.10      0.02     10000\n",
            "weighted avg       0.01      0.10      0.02     10000\n",
            "\n"
          ]
        },
        {
          "output_type": "stream",
          "name": "stderr",
          "text": [
            "/usr/local/lib/python3.7/dist-packages/sklearn/metrics/_classification.py:1318: UndefinedMetricWarning: Precision and F-score are ill-defined and being set to 0.0 in labels with no predicted samples. Use `zero_division` parameter to control this behavior.\n",
            "  _warn_prf(average, modifier, msg_start, len(result))\n",
            "/usr/local/lib/python3.7/dist-packages/sklearn/metrics/_classification.py:1318: UndefinedMetricWarning: Precision and F-score are ill-defined and being set to 0.0 in labels with no predicted samples. Use `zero_division` parameter to control this behavior.\n",
            "  _warn_prf(average, modifier, msg_start, len(result))\n",
            "/usr/local/lib/python3.7/dist-packages/sklearn/metrics/_classification.py:1318: UndefinedMetricWarning: Precision and F-score are ill-defined and being set to 0.0 in labels with no predicted samples. Use `zero_division` parameter to control this behavior.\n",
            "  _warn_prf(average, modifier, msg_start, len(result))\n"
          ]
        }
      ]
    },
    {
      "cell_type": "markdown",
      "source": [
        "# **The Convolutional Neural Network**"
      ],
      "metadata": {
        "id": "eFMcX8MgxUQr"
      }
    },
    {
      "cell_type": "code",
      "source": [
        "cnn = models.Sequential([\n",
        "                         #The CNN part\n",
        "                         layers.Conv2D(filters = 32, activation = 'relu', input_shape = (32, 32, 3), kernel_size = (3, 3)), # We will have 32 filters (for different parts in every photo) and each one of them is 3*3 in shape\n",
        "                         layers.MaxPooling2D((2,2)),\n",
        "\n",
        "                         layers.Conv2D(filters = 64, activation = 'relu', input_shape = (32, 32, 3), kernel_size = (3, 3)), # We will have 32 filters (for different parts in every photo) and each one of them is 3*3 in shape\n",
        "                         layers.MaxPooling2D((2,2)),\n",
        "\n",
        "                         #The dense part\n",
        "                         layers.Flatten(), # it will recognize the shape of the matrix automatically\n",
        "                         layers.Dense(100, activation='relu'),\n",
        "                         layers.Dense(10, activation='softmax') # the difference between softmax function and the segmoid function is that the first will normalize the probabilities (the total sum = 1)\n",
        "                      ])"
      ],
      "metadata": {
        "id": "WqvPBqfodxGa"
      },
      "execution_count": 74,
      "outputs": []
    },
    {
      "cell_type": "code",
      "source": [
        "cnn.compile(optimizer='adam',\n",
        "            loss='sparse_categorical_crossentropy',\n",
        "            metrics=['accuracy'])"
      ],
      "metadata": {
        "id": "GIZ4_8Wigksa"
      },
      "execution_count": 75,
      "outputs": []
    },
    {
      "cell_type": "code",
      "source": [
        "cnn.fit(x_train, y_train, epochs = 12)"
      ],
      "metadata": {
        "colab": {
          "base_uri": "https://localhost:8080/"
        },
        "id": "LI19ICr1hO0D",
        "outputId": "a484d37c-d71a-46b0-ca1d-83c019ea3a4a"
      },
      "execution_count": 76,
      "outputs": [
        {
          "output_type": "stream",
          "name": "stdout",
          "text": [
            "Epoch 1/12\n",
            "1563/1563 [==============================] - 64s 40ms/step - loss: 2.3028 - accuracy: 0.0996\n",
            "Epoch 2/12\n",
            "1563/1563 [==============================] - 63s 40ms/step - loss: 2.3028 - accuracy: 0.0989\n",
            "Epoch 3/12\n",
            "1563/1563 [==============================] - 63s 40ms/step - loss: 2.3028 - accuracy: 0.0985\n",
            "Epoch 4/12\n",
            "1563/1563 [==============================] - 63s 40ms/step - loss: 2.3028 - accuracy: 0.0981\n",
            "Epoch 5/12\n",
            "1563/1563 [==============================] - 63s 40ms/step - loss: 2.3028 - accuracy: 0.0991\n",
            "Epoch 6/12\n",
            "1563/1563 [==============================] - 63s 40ms/step - loss: 2.3027 - accuracy: 0.0996\n",
            "Epoch 7/12\n",
            "1563/1563 [==============================] - 63s 41ms/step - loss: 2.3028 - accuracy: 0.0975\n",
            "Epoch 8/12\n",
            "1563/1563 [==============================] - 63s 40ms/step - loss: 2.3028 - accuracy: 0.0985\n",
            "Epoch 9/12\n",
            "1563/1563 [==============================] - 63s 40ms/step - loss: 2.3028 - accuracy: 0.0985\n",
            "Epoch 10/12\n",
            "1563/1563 [==============================] - 62s 40ms/step - loss: 2.3028 - accuracy: 0.0984\n",
            "Epoch 11/12\n",
            "1563/1563 [==============================] - 62s 40ms/step - loss: 2.3027 - accuracy: 0.0987\n",
            "Epoch 12/12\n",
            "1563/1563 [==============================] - 62s 40ms/step - loss: 2.3027 - accuracy: 0.0982\n"
          ]
        },
        {
          "output_type": "execute_result",
          "data": {
            "text/plain": [
              "<keras.callbacks.History at 0x7f3661dcf510>"
            ]
          },
          "metadata": {},
          "execution_count": 76
        }
      ]
    },
    {
      "cell_type": "markdown",
      "source": [
        "# **Saving The Model**"
      ],
      "metadata": {
        "id": "F7g7oXZM08g5"
      }
    },
    {
      "cell_type": "code",
      "source": [
        "cnn.save('ImageClassificationModel')"
      ],
      "metadata": {
        "colab": {
          "base_uri": "https://localhost:8080/"
        },
        "id": "rB2n7ZHvjv3U",
        "outputId": "6ab5de6f-7452-4527-870d-4bef20cfb424"
      },
      "execution_count": 77,
      "outputs": [
        {
          "output_type": "stream",
          "name": "stdout",
          "text": [
            "INFO:tensorflow:Assets written to: ImageClassificationModel/assets\n"
          ]
        }
      ]
    },
    {
      "cell_type": "code",
      "source": [
        "cnn.evaluate(x_test, y_test)"
      ],
      "metadata": {
        "colab": {
          "base_uri": "https://localhost:8080/"
        },
        "id": "uBbijU5Biaah",
        "outputId": "9d5b865f-55f8-4296-db95-9d2ba52e36bc"
      },
      "execution_count": 78,
      "outputs": [
        {
          "output_type": "stream",
          "name": "stdout",
          "text": [
            "313/313 [==============================] - 4s 13ms/step - loss: 2.3027 - accuracy: 0.1000\n"
          ]
        },
        {
          "output_type": "execute_result",
          "data": {
            "text/plain": [
              "[2.302661418914795, 0.10000000149011612]"
            ]
          },
          "metadata": {},
          "execution_count": 78
        }
      ]
    }
  ]
}