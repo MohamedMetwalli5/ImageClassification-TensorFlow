{
  "nbformat": 4,
  "nbformat_minor": 0,
  "metadata": {
    "colab": {
      "name": "TensorFlow-ImageClassification.ipynb",
      "provenance": [],
      "collapsed_sections": []
    },
    "kernelspec": {
      "name": "python3",
      "display_name": "Python 3"
    },
    "language_info": {
      "name": "python"
    }
  },
  "cells": [
    {
      "cell_type": "code",
      "execution_count": 9,
      "metadata": {
        "id": "fWFVZegXXkAg"
      },
      "outputs": [],
      "source": [
        "import tensorflow as tf\n",
        "from tensorflow.keras import datasets, layers, models\n",
        "import numpy as np\n",
        "import matplotlib.pyplot as plt\n",
        "from sklearn.metrics import confusion_matrix, classification_report"
      ]
    },
    {
      "cell_type": "markdown",
      "source": [
        "# **Loading the DataSet**"
      ],
      "metadata": {
        "id": "u19-ULlRtBP9"
      }
    },
    {
      "cell_type": "code",
      "source": [
        "(x_train, y_train), (x_test, y_test) = datasets.cifar10.load_data()"
      ],
      "metadata": {
        "colab": {
          "base_uri": "https://localhost:8080/"
        },
        "id": "-SK5ZCUiYEBm",
        "outputId": "0c0bfbe3-f021-490f-c9f8-39cdcf67accf"
      },
      "execution_count": 3,
      "outputs": [
        {
          "output_type": "stream",
          "name": "stdout",
          "text": [
            "Downloading data from https://www.cs.toronto.edu/~kriz/cifar-10-python.tar.gz\n",
            "170500096/170498071 [==============================] - 2s 0us/step\n",
            "170508288/170498071 [==============================] - 2s 0us/step\n"
          ]
        }
      ]
    },
    {
      "cell_type": "markdown",
      "source": [
        "# **The Classes' Labels**"
      ],
      "metadata": {
        "id": "TYbrNYH3tFkc"
      }
    },
    {
      "cell_type": "code",
      "source": [
        "Classes = [\"airplane\", \"automobile\", \"bird\", \"cat\", \"deer\", \"dog\", \"frog\", \"horse\", \"ship\", \"truck\"]"
      ],
      "metadata": {
        "id": "up2-3CJDZXf1"
      },
      "execution_count": 6,
      "outputs": []
    },
    {
      "cell_type": "markdown",
      "source": [
        "# **Making The Labels Column Values Normalized**"
      ],
      "metadata": {
        "id": "uoOdZuEqtKml"
      }
    },
    {
      "cell_type": "code",
      "source": [
        "y_train = y_train.reshape(-1)\n",
        "y_train"
      ],
      "metadata": {
        "colab": {
          "base_uri": "https://localhost:8080/"
        },
        "id": "2enXfyLVZINN",
        "outputId": "8cc313ce-3709-4ffb-d6b4-63554e2d08b4"
      },
      "execution_count": 5,
      "outputs": [
        {
          "output_type": "execute_result",
          "data": {
            "text/plain": [
              "array([6, 9, 9, ..., 9, 1, 1], dtype=uint8)"
            ]
          },
          "metadata": {},
          "execution_count": 5
        }
      ]
    },
    {
      "cell_type": "markdown",
      "source": [
        "# **Converting the RGB Values [0:255] -> [0.0 : 1.0]**"
      ],
      "metadata": {
        "id": "IA6rhG9JtRA9"
      }
    },
    {
      "cell_type": "code",
      "source": [
        "x_train = x_train/255\n",
        "x_test = x_test/255"
      ],
      "metadata": {
        "id": "FoHkNZhEZ9Lx"
      },
      "execution_count": 8,
      "outputs": []
    },
    {
      "cell_type": "markdown",
      "source": [
        "# **The Artifitial Neural Network**"
      ],
      "metadata": {
        "id": "-sbI1iLrtuE4"
      }
    },
    {
      "cell_type": "code",
      "source": [
        "ann = models.Sequential([\n",
        "                         layers.Flatten(input_shape=(32,32,3)),\n",
        "                         layers.Dense(3000, activation='relu'),\n",
        "                         layers.Dense(1000, activation='relu'),\n",
        "                         layers.Dense(10, activation='sigmoid')\n",
        "                      ])\n",
        "\n",
        "ann.compile(optimizer='SGD',\n",
        "            loss='sparse_categorical_crossentropy',\n",
        "            metrics=['accuracy'])\n",
        "\n",
        "ann.fit(x_train, y_train, epochs = 5)"
      ],
      "metadata": {
        "colab": {
          "base_uri": "https://localhost:8080/"
        },
        "id": "h0CxIek1afJl",
        "outputId": "425fd144-d5b1-415a-89af-4bda3660b51f"
      },
      "execution_count": 12,
      "outputs": [
        {
          "output_type": "stream",
          "name": "stdout",
          "text": [
            "Epoch 1/5\n",
            "1563/1563 [==============================] - 105s 67ms/step - loss: 2.3009 - accuracy: 0.1251\n",
            "Epoch 2/5\n",
            "1563/1563 [==============================] - 118s 76ms/step - loss: 2.2998 - accuracy: 0.1268\n",
            "Epoch 3/5\n",
            "1563/1563 [==============================] - 123s 79ms/step - loss: 2.2991 - accuracy: 0.1490\n",
            "Epoch 4/5\n",
            "1563/1563 [==============================] - 128s 82ms/step - loss: 2.2981 - accuracy: 0.1479\n",
            "Epoch 5/5\n",
            "1563/1563 [==============================] - 133s 85ms/step - loss: 2.2971 - accuracy: 0.1561\n"
          ]
        },
        {
          "output_type": "execute_result",
          "data": {
            "text/plain": [
              "<keras.callbacks.History at 0x7f366231e590>"
            ]
          },
          "metadata": {},
          "execution_count": 12
        }
      ]
    },
    {
      "cell_type": "markdown",
      "source": [
        "**ANN Report**"
      ],
      "metadata": {
        "id": "LslIQvRsxWB8"
      }
    },
    {
      "cell_type": "code",
      "source": [
        "y_pred = ann.predict(x_test)\n",
        "y_pred_classes = [np.argmax(element) for element in y_pred]\n",
        "\n",
        "print(\"The Report Of Classification : \\n\", classification_report(y_test, y_pred_classes))"
      ],
      "metadata": {
        "colab": {
          "base_uri": "https://localhost:8080/"
        },
        "id": "5PFx6wvfb-0f",
        "outputId": "c7bca271-cf2e-4dec-dbb4-bcd7ebe9f89e"
      },
      "execution_count": 15,
      "outputs": [
        {
          "output_type": "stream",
          "name": "stdout",
          "text": [
            "The Report Of Classification : \n",
            "               precision    recall  f1-score   support\n",
            "\n",
            "           0       0.10      1.00      0.18      1000\n",
            "           1       0.00      0.00      0.00      1000\n",
            "           2       0.00      0.00      0.00      1000\n",
            "           3       0.00      0.00      0.00      1000\n",
            "           4       0.00      0.00      0.00      1000\n",
            "           5       0.00      0.00      0.00      1000\n",
            "           6       0.00      0.00      0.00      1000\n",
            "           7       0.00      0.00      0.00      1000\n",
            "           8       0.14      0.00      0.00      1000\n",
            "           9       0.00      0.00      0.00      1000\n",
            "\n",
            "    accuracy                           0.10     10000\n",
            "   macro avg       0.02      0.10      0.02     10000\n",
            "weighted avg       0.02      0.10      0.02     10000\n",
            "\n"
          ]
        },
        {
          "output_type": "stream",
          "name": "stderr",
          "text": [
            "/usr/local/lib/python3.7/dist-packages/sklearn/metrics/_classification.py:1318: UndefinedMetricWarning: Precision and F-score are ill-defined and being set to 0.0 in labels with no predicted samples. Use `zero_division` parameter to control this behavior.\n",
            "  _warn_prf(average, modifier, msg_start, len(result))\n",
            "/usr/local/lib/python3.7/dist-packages/sklearn/metrics/_classification.py:1318: UndefinedMetricWarning: Precision and F-score are ill-defined and being set to 0.0 in labels with no predicted samples. Use `zero_division` parameter to control this behavior.\n",
            "  _warn_prf(average, modifier, msg_start, len(result))\n",
            "/usr/local/lib/python3.7/dist-packages/sklearn/metrics/_classification.py:1318: UndefinedMetricWarning: Precision and F-score are ill-defined and being set to 0.0 in labels with no predicted samples. Use `zero_division` parameter to control this behavior.\n",
            "  _warn_prf(average, modifier, msg_start, len(result))\n"
          ]
        }
      ]
    },
    {
      "cell_type": "markdown",
      "source": [
        "# **The Convolutional Neural Network**"
      ],
      "metadata": {
        "id": "eFMcX8MgxUQr"
      }
    },
    {
      "cell_type": "code",
      "source": [
        "cnn = models.Sequential([\n",
        "                         #The CNN part\n",
        "                         layers.Conv2D(filters = 32, activation = 'relu', input_shape = (32, 32, 3), kernel_size = (3, 3)), # We will have 32 filters (for different parts in every photo) and each one of them is 3*3 in shape\n",
        "                         layers.MaxPooling2D((2,2)),\n",
        "\n",
        "                         layers.Conv2D(filters = 64, activation = 'relu', input_shape = (32, 32, 3), kernel_size = (3, 3)), # We will have 32 filters (for different parts in every photo) and each one of them is 3*3 in shape\n",
        "                         layers.MaxPooling2D((2,2)),\n",
        "\n",
        "                         #The dense part\n",
        "                         layers.Flatten(), # it will recognize the shape of the matrix automatically\n",
        "                         layers.Dense(100, activation='relu'),\n",
        "                         layers.Dense(10, activation='softmax') # the difference between softmax function and the segmoid function is that the first will normalize the probabilities (the total sum = 1)\n",
        "                      ])"
      ],
      "metadata": {
        "id": "WqvPBqfodxGa"
      },
      "execution_count": 49,
      "outputs": []
    },
    {
      "cell_type": "code",
      "source": [
        "cnn.compile(optimizer='adam',\n",
        "            loss='sparse_categorical_crossentropy',\n",
        "            metrics=['accuracy'])"
      ],
      "metadata": {
        "id": "GIZ4_8Wigksa"
      },
      "execution_count": 50,
      "outputs": []
    },
    {
      "cell_type": "code",
      "source": [
        "cnn.fit(x_train, y_train, epochs = 12)"
      ],
      "metadata": {
        "colab": {
          "base_uri": "https://localhost:8080/"
        },
        "id": "LI19ICr1hO0D",
        "outputId": "851f10f2-a304-4852-e710-0c67acba06b2"
      },
      "execution_count": 51,
      "outputs": [
        {
          "output_type": "stream",
          "name": "stdout",
          "text": [
            "Epoch 1/12\n",
            "1563/1563 [==============================] - 62s 40ms/step - loss: 2.0893 - accuracy: 0.2369\n",
            "Epoch 2/12\n",
            "1563/1563 [==============================] - 63s 40ms/step - loss: 1.9218 - accuracy: 0.3112\n",
            "Epoch 3/12\n",
            "1563/1563 [==============================] - 62s 39ms/step - loss: 1.7956 - accuracy: 0.3564\n",
            "Epoch 4/12\n",
            "1563/1563 [==============================] - 62s 40ms/step - loss: 1.7179 - accuracy: 0.3854\n",
            "Epoch 5/12\n",
            "1563/1563 [==============================] - 62s 40ms/step - loss: 1.6672 - accuracy: 0.4042\n",
            "Epoch 6/12\n",
            "1563/1563 [==============================] - 63s 40ms/step - loss: 1.6303 - accuracy: 0.4190\n",
            "Epoch 7/12\n",
            "1563/1563 [==============================] - 63s 40ms/step - loss: 1.5987 - accuracy: 0.4320\n",
            "Epoch 8/12\n",
            "1563/1563 [==============================] - 64s 41ms/step - loss: 1.5751 - accuracy: 0.4385\n",
            "Epoch 9/12\n",
            "1563/1563 [==============================] - 64s 41ms/step - loss: 1.5526 - accuracy: 0.4462\n",
            "Epoch 10/12\n",
            "1563/1563 [==============================] - 64s 41ms/step - loss: 1.5357 - accuracy: 0.4521\n",
            "Epoch 11/12\n",
            "1563/1563 [==============================] - 64s 41ms/step - loss: 1.5136 - accuracy: 0.4584\n",
            "Epoch 12/12\n",
            "1563/1563 [==============================] - 64s 41ms/step - loss: 1.4911 - accuracy: 0.4675\n"
          ]
        },
        {
          "output_type": "execute_result",
          "data": {
            "text/plain": [
              "<keras.callbacks.History at 0x7f365d10edd0>"
            ]
          },
          "metadata": {},
          "execution_count": 51
        }
      ]
    },
    {
      "cell_type": "code",
      "source": [
        "cnn.save('ImageClassificationModel')"
      ],
      "metadata": {
        "colab": {
          "base_uri": "https://localhost:8080/"
        },
        "id": "rB2n7ZHvjv3U",
        "outputId": "26344815-4d69-4c90-8477-0d52434388c2"
      },
      "execution_count": 57,
      "outputs": [
        {
          "output_type": "stream",
          "name": "stdout",
          "text": [
            "INFO:tensorflow:Assets written to: ImageClassificationModel/assets\n"
          ]
        }
      ]
    },
    {
      "cell_type": "code",
      "source": [
        "cnn.evaluate(x_test, y_test)"
      ],
      "metadata": {
        "colab": {
          "base_uri": "https://localhost:8080/"
        },
        "id": "uBbijU5Biaah",
        "outputId": "47e2f6aa-0761-48c2-fd76-582ebfdd042e"
      },
      "execution_count": 53,
      "outputs": [
        {
          "output_type": "stream",
          "name": "stdout",
          "text": [
            "313/313 [==============================] - 5s 14ms/step - loss: 601.0696 - accuracy: 0.1244\n"
          ]
        },
        {
          "output_type": "execute_result",
          "data": {
            "text/plain": [
              "[601.069580078125, 0.12439999729394913]"
            ]
          },
          "metadata": {},
          "execution_count": 53
        }
      ]
    },
    {
      "cell_type": "code",
      "source": [
        "print(\"The Report Of Classification : \\n\", classification_report(y_test, y_classes))"
      ],
      "metadata": {
        "colab": {
          "base_uri": "https://localhost:8080/"
        },
        "id": "dZuPdWVSjF9B",
        "outputId": "496b6f83-8e57-4516-d4b7-0358c20cbabd"
      },
      "execution_count": 58,
      "outputs": [
        {
          "output_type": "stream",
          "name": "stdout",
          "text": [
            "The Report Of Classification : \n",
            "               precision    recall  f1-score   support\n",
            "\n",
            "           0       0.10      1.00      0.18      1000\n",
            "           1       0.00      0.00      0.00      1000\n",
            "           2       0.00      0.00      0.00      1000\n",
            "           3       0.00      0.00      0.00      1000\n",
            "           4       0.00      0.00      0.00      1000\n",
            "           5       0.00      0.00      0.00      1000\n",
            "           6       0.00      0.00      0.00      1000\n",
            "           7       0.00      0.00      0.00      1000\n",
            "           8       0.14      0.00      0.00      1000\n",
            "           9       0.00      0.00      0.00      1000\n",
            "\n",
            "    accuracy                           0.10     10000\n",
            "   macro avg       0.02      0.10      0.02     10000\n",
            "weighted avg       0.02      0.10      0.02     10000\n",
            "\n"
          ]
        },
        {
          "output_type": "stream",
          "name": "stderr",
          "text": [
            "/usr/local/lib/python3.7/dist-packages/sklearn/metrics/_classification.py:1318: UndefinedMetricWarning: Precision and F-score are ill-defined and being set to 0.0 in labels with no predicted samples. Use `zero_division` parameter to control this behavior.\n",
            "  _warn_prf(average, modifier, msg_start, len(result))\n",
            "/usr/local/lib/python3.7/dist-packages/sklearn/metrics/_classification.py:1318: UndefinedMetricWarning: Precision and F-score are ill-defined and being set to 0.0 in labels with no predicted samples. Use `zero_division` parameter to control this behavior.\n",
            "  _warn_prf(average, modifier, msg_start, len(result))\n",
            "/usr/local/lib/python3.7/dist-packages/sklearn/metrics/_classification.py:1318: UndefinedMetricWarning: Precision and F-score are ill-defined and being set to 0.0 in labels with no predicted samples. Use `zero_division` parameter to control this behavior.\n",
            "  _warn_prf(average, modifier, msg_start, len(result))\n"
          ]
        }
      ]
    }
  ]
}